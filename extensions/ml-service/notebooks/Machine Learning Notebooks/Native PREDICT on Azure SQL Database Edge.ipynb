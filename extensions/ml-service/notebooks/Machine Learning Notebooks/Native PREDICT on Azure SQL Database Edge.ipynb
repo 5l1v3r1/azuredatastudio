{
    "metadata": {
        "kernelspec": {
            "name": "SQL",
            "display_name": "SQL",
            "language": "sql"
        },
        "language_info": {
            "name": "sql",
            "version": ""
        }
    },
    "nbformat_minor": 2,
    "nbformat": 4,
    "cells": [
        {
            "cell_type": "markdown",
            "source": [
                "<p align=\"center\">\n",
                "<img src =\"https://raw.githubusercontent.com/microsoft/azuredatastudio/master/src/sql/media/microsoft_logo_gray.svg?sanitize=true\" width=\"250\" align=\"center\">\n",
                "</p>"
            ],
            "metadata": {
                "azdata_cell_guid": "8daaf284-2901-4b5f-83f3-35160c9a818b"
            }
        },
        {
            "cell_type": "markdown",
            "source": [
                "# **Native PREDICT on Azure SQL Database Edge**\n",
                "Using the ONNX model we trained and deployed in the *Train, Convert, and Predict with ONNX Runtime* notebook, we will run native PREDICT inside Azure SQL Database Edge.\n",
                "\n",
                "### **Prerequisites**:\n",
                "* Complete the *Train, Convert, and Deploy with ONNX Runtime* notebook. "
            ],
            "metadata": {
                "azdata_cell_guid": "4eb11f14-382e-4b13-a723-389a4c03006a"
            }
        },
        {
            "cell_type": "markdown",
            "source": [
                "Below, using the stored ONNX model, we predict the median value of a house based on other features from the boston housing dataset. "
            ],
            "metadata": {
                "azdata_cell_guid": "c04a6710-f789-44b3-9d74-5c3cca3104c9"
            }
        },
        {
            "cell_type": "code",
            "source": [
                "USE onnx\n",
                "\n",
                "DECLARE @model varbinary(max) = (SELECT DATA FROM dbo.models WHERE id = 1);\n",
                "WITH predict_input as (SELECT TOP (1000) [id]\n",
                "      ,CRIM\n",
                "      ,ZN\n",
                "      ,INDUS\n",
                "      ,CHAS\n",
                "      ,NOX\n",
                "      ,RM\n",
                "      ,AGE\n",
                "      ,DIS\n",
                "      ,RAD\n",
                "      ,TAX\n",
                "      ,PTRATIO\n",
                "      ,B\n",
                "      ,LSTAT\n",
                "  FROM [onnx].[dbo].[features])\n",
                "\n",
                "SELECT predict_input.id, p.variable1 AS MEDV FROM PREDICT (MODEL =  @model, DATA = predict_input) WITH (variable1 float) AS p"
            ],
            "metadata": {
                "azdata_cell_guid": "ac2b99f6-4f54-4261-b78e-8463a4d6f0bd"
            },
            "outputs": [],
            "execution_count": 11
        },
        {
            "cell_type": "markdown",
            "source": [
                "Now, you can see the model's predicted median house value for the first thousand samples. "
            ],
            "metadata": {
                "azdata_cell_guid": "165c5e3d-0fbc-4704-856a-3fb742519dd7"
            }
        }
    ]
}