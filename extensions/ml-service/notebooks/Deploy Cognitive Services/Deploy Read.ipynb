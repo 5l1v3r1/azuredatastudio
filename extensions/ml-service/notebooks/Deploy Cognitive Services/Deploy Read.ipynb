{
    "metadata": {
        "kernelspec": {
            "name": "python3",
            "display_name": "Python 3"
        },
        "language_info": {
            "name": "python",
            "version": "3.6.6",
            "mimetype": "text/x-python",
            "codemirror_mode": {
                "name": "ipython",
                "version": 3
            },
            "pygments_lexer": "ipython3",
            "nbconvert_exporter": "python",
            "file_extension": ".py"
        }
    },
    "nbformat_minor": 2,
    "nbformat": 4,
    "cells": [
        {
            "cell_type": "markdown",
            "source": [
                "<p align=\"center\">\n",
                "<img src =\"https://raw.githubusercontent.com/microsoft/azuredatastudio/master/src/sql/media/microsoft_logo_gray.svg?sanitize=true\" width=\"250\" align=\"center\">\n",
                "</p>\n",
                " \n",
                "## Deploying Azure Cognitive Services inside SQL Server 2019 Big Data Cluster\n",
                " \n",
                "This notebook walks through the process of deploying Azure Cognitive Services in SQL Server 2019 Big Data Cluster.\n",
                "\n",
                "<span style=\"color:red\"><font size=\"3\">Please press the \"Run Cells\" button to run the notebook</font></span>"
            ],
            "metadata": {
                "azdata_cell_guid": "4f6bc3bc-3592-420a-b534-384011189005"
            }
        },
        {
            "cell_type": "markdown",
            "source": [
                "### **Prerequisites**\n",
                "Ensure the following tools are installed and added to PATH before proceeding.\n",
                "\n",
                "|Tools|Description|Installation|\n",
                "|---|---|---|\n",
                "|kubectl | Command-line tool for monitoring the underlying Kuberentes cluster | [Installation](https://kubernetes.io/docs/tasks/tools/install-kubectl/#install-kubectl-binary-using-native-package-management) |"
            ],
            "metadata": {
                "azdata_cell_guid": "d949980e-ad3f-4d02-ae84-7e4fbb19a087"
            }
        },
        {
            "cell_type": "markdown",
            "source": [
                "### **Check dependencies**"
            ],
            "metadata": {
                "azdata_cell_guid": "a56d3413-a730-4997-b5c2-c8abd972757e"
            }
        },
        {
            "cell_type": "code",
            "source": [
                "import pandas,sys,os,json,time,subprocess,getpass,tempfile\r\n",
                "pandas_version = pandas.__version__.split('.')\r\n",
                "pandas_major = int(pandas_version[0])\r\n",
                "pandas_minor = int(pandas_version[1])\r\n",
                "pandas_patch = int(pandas_version[2])\r\n",
                "if not (pandas_major > 0 or (pandas_major == 0 and pandas_minor > 24) or (pandas_major == 0 and pandas_minor == 24 and pandas_patch >= 2)):\r\n",
                "    sys.exit('Please upgrade the Notebook dependency before you can proceed, you can do it by running the \"Reinstall Notebook dependencies\" command in command palette (View menu -> Command Palette…).')\r\n",
                "def run_command(command):\r\n",
                "    print(\"Executing: \" + command)\r\n",
                "    stdout = subprocess.check_output(\r\n",
                "        command,\r\n",
                "        stderr=subprocess.STDOUT,\r\n",
                "        shell=True).decode(\"utf-8\")\r\n",
                "    print(stdout)\r\n",
                "    return stdout\r\n",
                "    if _exit_code != 0:\r\n",
                "        sys.exit(f'Command execution failed with exit code: {str(_exit_code)}.\\n\\t{command}\\n')\r\n",
                "    print(f'Successfully executed: {command}')\r\n",
                "    \r\n",
                "run_command('kubectl version --client=true')"
            ],
            "metadata": {
                "azdata_cell_guid": "326645cf-022a-47f2-8aff-37de71da8955"
            },
            "outputs": [],
            "execution_count": 44
        },
        {
            "cell_type": "markdown",
            "source": [
                "### **Define which environment to deploy to, AKS or Kubeadm**"
            ],
            "metadata": {
                "azdata_cell_guid": "d66c0e2b-411c-4bf5-b06b-e2004d460dc4"
            }
        },
        {
            "cell_type": "code",
            "source": [
                "cluster_type = input(\"Which cluster are you deploying to? (AKS or KUBEADM) (Default is KUBEADM)\") or \"KUBEADM\""
            ],
            "metadata": {
                "azdata_cell_guid": "e6958de0-3a17-4591-8ecc-58bad95905da"
            },
            "outputs": [],
            "execution_count": 45
        },
        {
            "cell_type": "markdown",
            "source": [
                "### **Setting up the parameters**"
            ],
            "metadata": {
                "azdata_cell_guid": "4cfde912-f707-4c27-9400-87424fee1cce"
            }
        },
        {
            "cell_type": "code",
            "source": [
                "label=\"cognitive-services-read\"\r\n",
                "deployment_file=None\r\n",
                "if cluster_type == \"KUBEADM\":\r\n",
                "    deployment_file=\"template_kubeadm.yaml\"\r\n",
                "else:\r\n",
                "    deployment_file=\"template_aks.yaml\"\r\n",
                "image=\"mcr.microsoft.com/azure-cognitive-services/cognitive-services-read:latest\"\r\n",
                "container_port=\"5000\"\r\n",
                "service_port=\"5700\""
            ],
            "metadata": {
                "azdata_cell_guid": "70c896e6-33dd-47ab-b053-e9a73ec9b19d"
            },
            "outputs": [],
            "execution_count": 52
        },
        {
            "cell_type": "markdown",
            "source": [
                "The Endpoint URI value is available on the Azure portal Overview page of the corresponding Cognitive Service resource. Navigate to the Overview page, hover over the Endpoint, and a Copy to clipboard  icon will appear. Copy and use where needed."
            ],
            "metadata": {
                "azdata_cell_guid": "129ba390-28e8-4ab5-9475-4a1a1e4bb91c"
            }
        },
        {
            "cell_type": "code",
            "source": [
                "endpoint_url = getpass.getpass(prompt = \"Endpoint Url\")"
            ],
            "metadata": {
                "azdata_cell_guid": "43116c79-228d-491c-9a74-0bb6dae4c356"
            },
            "outputs": [],
            "execution_count": 47
        },
        {
            "cell_type": "markdown",
            "source": [
                "This key is used to start the container, and is available on the Azure portal's Keys page of the corresponding Cognitive Service resource. Navigate to the Keys page, and click on the Copy to clipboard  icon."
            ],
            "metadata": {
                "azdata_cell_guid": "b04e121b-43ed-4f69-a35f-34ed756454db"
            }
        },
        {
            "cell_type": "code",
            "source": [
                "api_key = getpass.getpass(prompt = \"API Key\")"
            ],
            "metadata": {
                "azdata_cell_guid": "fd4e6149-fac9-43d7-b137-2b20072f3188"
            },
            "outputs": [],
            "execution_count": 48
        },
        {
            "cell_type": "markdown",
            "source": [
                "### **Setup cluster context**\r\n",
                "Enter your kube_config and your Big Data Cluster name."
            ],
            "metadata": {
                "azdata_cell_guid": "4b859f5c-05c4-491e-a5a8-affa85baf0a4"
            }
        },
        {
            "cell_type": "code",
            "source": [
                "from sys import platform\r\n",
                "\r\n",
                "home_dir = None\r\n",
                "if platform == \"linux\" or platform == \"linux2\":\r\n",
                "    home_dir = os.environ.get(\"HOME\")\r\n",
                "elif platform == \"darwin\":\r\n",
                "    home_dir = os.environ.get(\"HOME\")\r\n",
                "elif platform == \"win32\":\r\n",
                "    home_dir = os.environ.get(\"USERPROFILE\")\r\n",
                "default_config_path = os.path.join(home_dir, \".kube\", \"config\")\r\n",
                "kube_config = os.environ.get(\"KUBECONFIG\")\r\n",
                "if kube_config:\r\n",
                "    default_config_path = kube_config\r\n",
                "kube_config = input(\"Enter kube config. Default: %s\" % default_config_path) or default_config_path\r\n",
                "os.environ[\"KUBECONFIG\"] = kube_config\r\n",
                "print(\"Cluster Config Location: %s\" % kube_config)\r\n",
                "namespace = input(\"Enter Big data cluster name\")\r\n",
                "run_command('kubectl config set-context --current --namespace=%s' % namespace)"
            ],
            "metadata": {
                "azdata_cell_guid": "dde93e3c-6f20-48f7-88a9-0d3ec9cb455f"
            },
            "outputs": [],
            "execution_count": 53
        },
        {
            "cell_type": "code",
            "source": [
                "from pathlib import Path\r\n",
                "def find_file(file_name):\r\n",
                "    root = os.getcwd()\r\n",
                "    file_path = None\r\n",
                "    for filename in Path(root).rglob(file_name):\r\n",
                "        file_path = os.path.join(root, filename)\r\n",
                "        break\r\n",
                "    return file_path"
            ],
            "metadata": {
                "azdata_cell_guid": "b9d59f59-4bd3-4110-9c90-8ec2623a6217"
            },
            "outputs": [],
            "execution_count": 50
        },
        {
            "cell_type": "markdown",
            "source": [
                "### **Deploy The Service**\r\n",
                "Deploy the service in your Big Data Cluster"
            ],
            "metadata": {
                "azdata_cell_guid": "720c200c-322a-49dd-9aa3-8bf7946aa251"
            }
        },
        {
            "cell_type": "code",
            "source": [
                "config_file = find_file(deployment_file)\r\n",
                "file_content = None\r\n",
                "with open(config_file) as f:\r\n",
                "    file_content = f.read()\r\n",
                "    file_content=file_content.replace(\"$LABEL\", label)\r\n",
                "    file_content=file_content.replace(\"$IMAGE\", image)\r\n",
                "    file_content=file_content.replace(\"$CONTAINER_PORT\", container_port)\r\n",
                "    file_content=file_content.replace(\"$BILLING_END_POINT\", endpoint_url)\r\n",
                "    file_content=file_content.replace(\"$API_KEY\", api_key)\r\n",
                "    file_content=file_content.replace(\"$PORT\", service_port)\r\n",
                "\r\n",
                "fd, path = tempfile.mkstemp()\r\n",
                "try:\r\n",
                "    with os.fdopen(fd, 'w') as tmp:\r\n",
                "        tmp.write(file_content)\r\n",
                "    run_command('kubectl apply -f \"%s\" -n %s' % (path, namespace))\r\n",
                "finally:\r\n",
                "    os.remove(path)\r\n",
                ""
            ],
            "metadata": {
                "azdata_cell_guid": "dbdbb3d9-aa80-43ac-a387-05ddee01a958",
                "tags": []
            },
            "outputs": [],
            "execution_count": 58
        },
        {
            "cell_type": "markdown",
            "source": [
                "### **Wait for deployment to complete**"
            ],
            "metadata": {
                "azdata_cell_guid": "e33d6e1e-8c97-40dd-a4c2-77dddc0994e9"
            }
        },
        {
            "cell_type": "code",
            "source": [
                "\r\n",
                "for i in range(1, 50):\r\n",
                "    pod_status = run_command('kubectl get pod --selector=app=%s  -n %s -o=jsonpath=\"{.items[0].status.containerStatuses[0].state}\" ' % (label, namespace))\r\n",
                "    if pod_status and \"running\" in str(pod_status):\r\n",
                "        break\r\n",
                "    else:\r\n",
                "        time.sleep(5)"
            ],
            "metadata": {
                "azdata_cell_guid": "68a84ca3-b272-4db7-a8dd-056a4a51e656",
                "tags": []
            },
            "outputs": [],
            "execution_count": 65
        },
        {
            "cell_type": "markdown",
            "source": [
                "### **Get service endpoint**"
            ],
            "metadata": {
                "azdata_cell_guid": "6dc277c0-75a4-4111-9d3c-0642d6046a07"
            }
        },
        {
            "cell_type": "code",
            "source": [
                "\r\n",
                "\r\n",
                "host_ip = None\r\n",
                "port = None\r\n",
                "if cluster_type == \"KUBEADM\":\r\n",
                "    host_ip = run_command('kubectl get pod --selector=app=%s -o=jsonpath=\"{.items[0].status.hostIP}\" -n %s' % (label, namespace))\r\n",
                "    port = run_command('kubectl get service %s-svc -o=jsonpath=\"{.spec.ports[0].nodePort}\" -n %s' % (label, namespace))\r\n",
                "\r\n",
                "else:\r\n",
                "    for i in range(1, 50):\r\n",
                "        host_ip = run_command('kubectl get service %s-svc -o=jsonpath=\"{.status.loadBalancer.ingress[0].ip}\" -n %s' % (label, namespace))\r\n",
                "        port = run_command('kubectl get service %s-svc -o=jsonpath=\"{.spec.ports[0].port}\" -n %s' % (label, namespace))\r\n",
                "        if not host_ip:\r\n",
                "            time.sleep(5)\r\n",
                "        else:\r\n",
                "            break\r\n",
                "  \r\n",
                "def make_clickable(val):\r\n",
                "    return '<a href=\"{}\">{}</a>'.format(val,val)\r\n",
                "df = pandas.DataFrame([\"http://{}:{}\".format(host_ip, port)])\r\n",
                "df.style.format(make_clickable)\r\n",
                "\r\n",
                "\r\n",
                ""
            ],
            "metadata": {
                "azdata_cell_guid": "56537a40-ff81-483c-af2c-2ee6ad242dff"
            },
            "outputs": [],
            "execution_count": 64
        },
        {
            "cell_type": "markdown",
            "source": [
                "Now, you can use and access the service endpoint using above url."
            ],
            "metadata": {
                "azdata_cell_guid": "f710942e-d074-46da-9b95-209abe024657"
            }
        }
    ]
}