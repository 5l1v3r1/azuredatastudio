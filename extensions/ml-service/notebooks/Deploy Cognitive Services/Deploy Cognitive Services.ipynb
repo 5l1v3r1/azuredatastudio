{
    "metadata": {
        "kernelspec": {
            "name": "python3",
            "display_name": "Python 3"
        },
        "language_info": {
            "name": "python",
            "version": "3.6.6",
            "mimetype": "text/x-python",
            "codemirror_mode": {
                "name": "ipython",
                "version": 3
            },
            "pygments_lexer": "ipython3",
            "nbconvert_exporter": "python",
            "file_extension": ".py"
        }
    },
    "nbformat_minor": 2,
    "nbformat": 4,
    "cells": [
        {
            "cell_type": "markdown",
            "source": [
                "<p align=\"center\">\n",
                "<img src =\"https://raw.githubusercontent.com/microsoft/azuredatastudio/master/src/sql/media/microsoft_logo_gray.svg?sanitize=true\" width=\"250\" align=\"center\">\n",
                "</p>\n",
                " \n",
                "## Cognitive Services on SQL Server 2019 Big Data Cluster\n",
                " \n",
                "In SQL Server 2019 Big Data Cluster, you can deploy an Cognitive Services to manage your machine learning models. The following guides will take you through deploying MLFlow on a SQL Server 2019 Big Data Cluster running in either Azure Kubernetes Service (AKS) or kubeadm."
            ],
            "metadata": {
                "azdata_cell_guid": "4f6bc3bc-3592-420a-b534-384011189005"
            }
        },
        {
            "cell_type": "markdown",
            "source": [
                "**Deploy Cognitive Services in SQL Server 2019 Big Data Cluster:**\r\n",
                "\r\n",
                "* [Deploy Key Phrase Extraction](Deploy%20Key%20Phrase%20Extraction.ipynb). \r\n",
                "* [Deploy Language Detection](Deploy%20Language%20Detection.ipynb). \r\n",
                "* [Deploy Sentiment Analysis](Deploy%20Sentiment%20Analysis.ipynb). \r\n",
                "* [Deploy LUIS](Deploy%20LUIS.ipynb). \r\n",
                "* [Deploy Anomaly Detector](Deploy%20Anomaly%20Detector.ipynb). \r\n",
                "* [Deploy Face](Deploy%20Face.ipynb). \r\n",
                "* [Deploy Read](Deploy%20Read.ipynb). \r\n",
                "* [Deploy Sentiment Analysis](Deploy%20Sentiment%20Analysis.ipynb). "
            ],
            "metadata": {
                "azdata_cell_guid": "7f1dce26-dce6-44e3-9805-6991579a5fb1"
            }
        }
    ]
}