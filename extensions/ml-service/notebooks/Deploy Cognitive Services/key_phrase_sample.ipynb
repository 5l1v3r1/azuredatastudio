{
    "metadata": {
        "kernelspec": {
            "name": "python3",
            "display_name": "Python 3"
        },
        "language_info": {
            "name": "python",
            "version": "3.6.6",
            "mimetype": "text/x-python",
            "codemirror_mode": {
                "name": "ipython",
                "version": 3
            },
            "pygments_lexer": "ipython3",
            "nbconvert_exporter": "python",
            "file_extension": ".py"
        }
    },
    "nbformat_minor": 2,
    "nbformat": 4,
    "cells": [
        {
            "cell_type": "code",
            "source": [
                "pip install --upgrade requests"
            ],
            "metadata": {
                "azdata_cell_guid": "dc1a7ba1-45c9-47ca-aebd-577eb915e01b"
            },
            "outputs": [],
            "execution_count": 2
        },
        {
            "cell_type": "code",
            "source": [
                "import requests\r\n",
                "# pprint is used to format the JSON response\r\n",
                "from pprint import pprint"
            ],
            "metadata": {
                "azdata_cell_guid": "781b2604-a29c-48ce-a827-b03a8cfc7060"
            },
            "outputs": [],
            "execution_count": 3
        },
        {
            "cell_type": "code",
            "source": [
                "endpoint = \"http://137.116.126.111:5200\"\r\n",
                "language_api_url = endpoint + \"/text/analytics/v2.0/keyPhrases\"\r\n",
                "print(language_api_url)\r\n",
                "\r\n",
                ""
            ],
            "metadata": {
                "azdata_cell_guid": "93d0df94-317a-43a4-966a-429bdda7f986"
            },
            "outputs": [],
            "execution_count": 15
        },
        {
            "cell_type": "code",
            "source": [
                "documents = {\r\n",
                "        \"documents\": [\r\n",
                "            {\r\n",
                "                \"language\": \"en\",\r\n",
                "                \"id\": \"1\",\r\n",
                "                \"text\": \"We love this trail and make the trip every year. The views are breathtaking and well worth the hike!\"\r\n",
                "            },\r\n",
                "            {\r\n",
                "                \"language\": \"en\",\r\n",
                "                \"id\": \"2\",\r\n",
                "                \"text\": \"Poorly marked trails! I thought we were goners. Worst hike ever.\"\r\n",
                "            },\r\n",
                "            {\r\n",
                "                \"language\": \"en\",\r\n",
                "                \"id\": \"3\",\r\n",
                "                \"text\": \"Everyone in my family liked the trail but thought it was too challenging for the less athletic among us. Not necessarily recommended for small children.\"\r\n",
                "            },\r\n",
                "            {\r\n",
                "                \"language\": \"en\",\r\n",
                "                \"id\": \"4\",\r\n",
                "                \"text\": \"It was foggy so we missed the spectacular views, but the trail was ok. Worth checking out if you are in the area.\"\r\n",
                "            },\r\n",
                "            {\r\n",
                "                \"language\": \"en\",\r\n",
                "                \"id\": \"5\",\r\n",
                "                \"text\": \"This is my favorite trail. It has beautiful views and many places to stop and rest\"\r\n",
                "            }\r\n",
                "        ]\r\n",
                "    }"
            ],
            "metadata": {
                "azdata_cell_guid": "5c135243-3442-417c-aed5-aad90fca60c0"
            },
            "outputs": [],
            "execution_count": 20
        },
        {
            "cell_type": "code",
            "source": [
                "#headers = {\"Ocp-Apim-Subscription-Key\": subscription_key}\r\n",
                "response = requests.post(language_api_url, json=documents)\r\n",
                "languages = response.json()\r\n",
                "pprint(languages)"
            ],
            "metadata": {
                "azdata_cell_guid": "d27881d4-6d31-49e2-88e5-7315f72ccaf3"
            },
            "outputs": [],
            "execution_count": 21
        }
    ]
}