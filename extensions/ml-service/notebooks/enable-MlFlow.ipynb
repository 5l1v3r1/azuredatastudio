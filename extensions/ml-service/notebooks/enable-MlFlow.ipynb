{
    "metadata": {
        "kernelspec": {
            "name": "python3",
            "display_name": "Python 3"
        },
        "language_info": {
            "name": "python",
            "version": "3.6.6",
            "mimetype": "text/x-python",
            "codemirror_mode": {
                "name": "ipython",
                "version": 3
            },
            "pygments_lexer": "ipython3",
            "nbconvert_exporter": "python",
            "file_extension": ".py"
        }
    },
    "nbformat_minor": 2,
    "nbformat": 4,
    "cells": [
        {
            "cell_type": "code",
            "source": [
                "pip install mlflow-1.1.1.dev0-py3-none-any.whl"
            ],
            "metadata": {
                "azdata_cell_guid": "5179e658-2101-4331-8f09-00aad2a9a39a",
                "tags": []
            },
            "outputs": [],
            "execution_count": 7
        }
    ]
}